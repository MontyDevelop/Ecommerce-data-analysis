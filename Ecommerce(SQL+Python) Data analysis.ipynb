{
 "cells": [
  {
   "cell_type": "code",
   "execution_count": 3,
   "id": "d94bedfd-703f-41bc-8d5d-026eda2ac2ef",
   "metadata": {},
   "outputs": [],
   "source": [
    "import pandas as pd\n",
    "import matplotlib.pyplot as plt\n",
    "import seaborn as sns\n",
    "import mysql.connector\n",
    "\n",
    "db = mysql.connector.connect(host=\"localhost\",\n",
    "                            username=\"root\",\n",
    "                            password=\"Monty@19931513\",\n",
    "                            database=\"ecommerce\")\n",
    "\n",
    "cur = db.cursor()\n"
   ]
  },
  {
   "cell_type": "markdown",
   "id": "57936a67-bd0a-40c8-b687-a11af2941f5a",
   "metadata": {},
   "source": [
    "## List all unique cities where customers are located."
   ]
  },
  {
   "cell_type": "code",
   "execution_count": 29,
   "id": "c1dee3fb-4af0-42e7-ab9d-8bf395593f36",
   "metadata": {},
   "outputs": [
    {
     "data": {
      "text/html": [
       "<div>\n",
       "<style scoped>\n",
       "    .dataframe tbody tr th:only-of-type {\n",
       "        vertical-align: middle;\n",
       "    }\n",
       "\n",
       "    .dataframe tbody tr th {\n",
       "        vertical-align: top;\n",
       "    }\n",
       "\n",
       "    .dataframe thead th {\n",
       "        text-align: right;\n",
       "    }\n",
       "</style>\n",
       "<table border=\"1\" class=\"dataframe\">\n",
       "  <thead>\n",
       "    <tr style=\"text-align: right;\">\n",
       "      <th></th>\n",
       "      <th>0</th>\n",
       "    </tr>\n",
       "  </thead>\n",
       "  <tbody>\n",
       "    <tr>\n",
       "      <th>0</th>\n",
       "      <td>franca</td>\n",
       "    </tr>\n",
       "    <tr>\n",
       "      <th>1</th>\n",
       "      <td>sao bernardo do campo</td>\n",
       "    </tr>\n",
       "    <tr>\n",
       "      <th>2</th>\n",
       "      <td>sao paulo</td>\n",
       "    </tr>\n",
       "    <tr>\n",
       "      <th>3</th>\n",
       "      <td>mogi das cruzes</td>\n",
       "    </tr>\n",
       "    <tr>\n",
       "      <th>4</th>\n",
       "      <td>campinas</td>\n",
       "    </tr>\n",
       "  </tbody>\n",
       "</table>\n",
       "</div>"
      ],
      "text/plain": [
       "                       0\n",
       "0                 franca\n",
       "1  sao bernardo do campo\n",
       "2              sao paulo\n",
       "3        mogi das cruzes\n",
       "4               campinas"
      ]
     },
     "execution_count": 29,
     "metadata": {},
     "output_type": "execute_result"
    }
   ],
   "source": [
    "query = \"\"\" select distinct(customer_city) from customers \"\"\"\n",
    "\n",
    "cur.execute(query)\n",
    "data = cur.fetchall()\n",
    "df = pd.DataFrame(data)\n",
    "df.head()"
   ]
  },
  {
   "cell_type": "markdown",
   "id": "ce98890c-8dd1-4d17-8335-9b8ff94f1ecf",
   "metadata": {},
   "source": [
    "## Count the number of orders placed in 2017."
   ]
  },
  {
   "cell_type": "code",
   "execution_count": 5,
   "id": "ec42ef12-e11d-432f-8307-56e89082fc2f",
   "metadata": {},
   "outputs": [
    {
     "data": {
      "text/plain": [
       "('total orders placed in 2017 are', 45101)"
      ]
     },
     "execution_count": 5,
     "metadata": {},
     "output_type": "execute_result"
    }
   ],
   "source": [
    "query = \"\"\" select count(order_id) from orders where order_purchase_timestamp = 2017 \"\"\"\n",
    "\n",
    "cur.execute(query)\n",
    "data = cur.fetchall()\n",
    "\"total orders placed in 2017 are\", data[0][0]"
   ]
  },
  {
   "cell_type": "markdown",
   "id": "4970aac9-40b6-4008-909e-dce1c322ced3",
   "metadata": {},
   "source": [
    "## Find the total sales per category."
   ]
  },
  {
   "cell_type": "code",
   "execution_count": 30,
   "id": "1ac702c7-9254-420a-a099-997ea7d02dfd",
   "metadata": {},
   "outputs": [
    {
     "data": {
      "text/html": [
       "<div>\n",
       "<style scoped>\n",
       "    .dataframe tbody tr th:only-of-type {\n",
       "        vertical-align: middle;\n",
       "    }\n",
       "\n",
       "    .dataframe tbody tr th {\n",
       "        vertical-align: top;\n",
       "    }\n",
       "\n",
       "    .dataframe thead th {\n",
       "        text-align: right;\n",
       "    }\n",
       "</style>\n",
       "<table border=\"1\" class=\"dataframe\">\n",
       "  <thead>\n",
       "    <tr style=\"text-align: right;\">\n",
       "      <th></th>\n",
       "      <th>category</th>\n",
       "      <th>sales</th>\n",
       "    </tr>\n",
       "  </thead>\n",
       "  <tbody>\n",
       "    <tr>\n",
       "      <th>0</th>\n",
       "      <td>PERFUMERY</td>\n",
       "      <td>506738.66</td>\n",
       "    </tr>\n",
       "    <tr>\n",
       "      <th>1</th>\n",
       "      <td>FURNITURE DECORATION</td>\n",
       "      <td>1430176.39</td>\n",
       "    </tr>\n",
       "    <tr>\n",
       "      <th>2</th>\n",
       "      <td>TELEPHONY</td>\n",
       "      <td>486882.05</td>\n",
       "    </tr>\n",
       "    <tr>\n",
       "      <th>3</th>\n",
       "      <td>BED TABLE BATH</td>\n",
       "      <td>1712553.67</td>\n",
       "    </tr>\n",
       "    <tr>\n",
       "      <th>4</th>\n",
       "      <td>AUTOMOTIVE</td>\n",
       "      <td>852294.33</td>\n",
       "    </tr>\n",
       "  </tbody>\n",
       "</table>\n",
       "</div>"
      ],
      "text/plain": [
       "               category       sales\n",
       "0             PERFUMERY   506738.66\n",
       "1  FURNITURE DECORATION  1430176.39\n",
       "2             TELEPHONY   486882.05\n",
       "3        BED TABLE BATH  1712553.67\n",
       "4            AUTOMOTIVE   852294.33"
      ]
     },
     "execution_count": 30,
     "metadata": {},
     "output_type": "execute_result"
    }
   ],
   "source": [
    "query = \"\"\" select upper(products.product_category) category, \n",
    "round(sum(payments.payment_value),2) sales\n",
    "from products join order_items\n",
    "on products.product_id = order_items.product_id\n",
    "join payments\n",
    "on payments.order_id = order_items.order_id\n",
    "group by category\n",
    "\"\"\"\n",
    "\n",
    "cur.execute(query)\n",
    "data = cur.fetchall()\n",
    "data\n",
    "\n",
    "df = pd.DataFrame(data, columns=['category', \"sales\"])\n",
    "df.head()"
   ]
  },
  {
   "cell_type": "markdown",
   "id": "f378d9f6-3d39-46dd-8088-da78ecebfacb",
   "metadata": {},
   "source": [
    "## Calculate the percentage of orders that were paid in installments."
   ]
  },
  {
   "cell_type": "code",
   "execution_count": 14,
   "id": "5c2e4db8-eaef-401b-afa6-6c10854a2306",
   "metadata": {},
   "outputs": [
    {
     "data": {
      "text/plain": [
       "('the percentage of orders that were paid in installments is',\n",
       " Decimal('99.9981'))"
      ]
     },
     "execution_count": 14,
     "metadata": {},
     "output_type": "execute_result"
    }
   ],
   "source": [
    "query = \"\"\" select (sum(case when payment_installments >=1 then 1 \n",
    "else 0 end)) / count(*) * 100 from payments\n",
    "\"\"\"\n",
    "\n",
    "cur.execute(query)\n",
    "data = cur.fetchall()\n",
    "\"the percentage of orders that were paid in installments is\", data[0][0]"
   ]
  },
  {
   "cell_type": "markdown",
   "id": "99d14fb4-d693-4ec5-a298-7f71a23ace82",
   "metadata": {},
   "source": [
    "## Count the number of customers from each state. "
   ]
  },
  {
   "cell_type": "code",
   "execution_count": 41,
   "id": "56871ade-b4ad-4593-87a5-0b1c6fcce9f9",
   "metadata": {},
   "outputs": [
    {
     "data": {
      "image/png": "[encoded data removed]",
      "text/plain": [
       "<Figure size 800x300 with 1 Axes>"
      ]
     },
     "metadata": {},
     "output_type": "display_data"
    }
   ],
   "source": [
    "query = \"\"\" select customer_state, count(customer_id) \n",
    "from customers group by customer_state\n",
    "\"\"\"\n",
    "\n",
    "cur.execute(query)\n",
    "data = cur.fetchall()\n",
    "df = pd.DataFrame(data, columns=['state', 'customer_count'])\n",
    "df = df.sort_values(by='customer_count', ascending=False)\n",
    "\n",
    "plt.figure(figsize=(8,3))\n",
    "plt.bar(df['state'], df['customer_count'])\n",
    "plt.xlabel(\"State\")\n",
    "plt.ylabel(\"No of Customer\")\n",
    "plt.xticks(rotation=90)\n",
    "plt.show()"
   ]
  },
  {
   "cell_type": "markdown",
   "id": "9d10ddbb-6caa-4229-afc7-093a024250d5",
   "metadata": {},
   "source": [
    "## Calculate the number of orders per month in 2018"
   ]
  },
  {
   "cell_type": "code",
   "execution_count": 53,
   "id": "9e3a49b2-ea46-46ba-af97-be4b6739175d",
   "metadata": {},
   "outputs": [
    {
     "data": {
      "image/png": "[encoded data removed]",
      "text/plain": [
       "<Figure size 640x480 with 1 Axes>"
      ]
     },
     "metadata": {},
     "output_type": "display_data"
    }
   ],
   "source": [
    "query = \"\"\" select monthname(order_purchase_timestamp) months, count(order_id) order_count \n",
    "from orders where year(order_purchase_timestamp) = 2018\n",
    "group by months\n",
    "\"\"\"\n",
    "\n",
    "cur.execute(query)\n",
    "data = cur.fetchall()\n",
    "df = pd.DataFrame(data, columns = [\"months\",\"order_count\"])\n",
    "o = [\"January\",\"February\",\"March\",\"April\",\"May\",\"June\",\"July\",\"August\",\"September\",\"October\"]\n",
    "\n",
    "\n",
    "ax = sns.barplot(x=df[\"months\"], y=df['order_count'], order=o)\n",
    "plt.xlabel(\"Months\")\n",
    "plt.ylabel(\"No of orders\")\n",
    "plt.xticks(rotation=45)\n",
    "\n",
    "ax.bar_label(ax.containers[0])\n",
    "plt.show()"
   ]
  }
 ],
 "metadata": {
  "kernelspec": {
   "display_name": "Python 3 (ipykernel)",
   "language": "python",
   "name": "python3"
  },
  "language_info": {
   "codemirror_mode": {
    "name": "ipython",
    "version": 3
   },
   "file_extension": ".py",
   "mimetype": "text/x-python",
   "name": "python",
   "nbconvert_exporter": "python",
   "pygments_lexer": "ipython3",
   "version": "3.13.3"
  }
 },
 "nbformat": 4,
 "nbformat_minor": 5
}
